{
 "cells": [
  {
   "cell_type": "markdown",
   "metadata": {},
   "source": [
    "# Generate Gold standard dataset of lexical change from Dictionnaire historique du français (A. Rey) and Frantext\n",
    "\n",
    "Summary :\n",
    "- get words from dico rey parsed (xlsx file)\n",
    "- retain nouns and verbs whose frequency in Frantext 1800-1850 and in Frantext 1950-2000 is more than 50 and 100 respectively.\n",
    "\n",
    "This is what the present notebook is doing. Then next step is :\n",
    "- choose manually from the resulting files (`noms_a_choisir_dico_rey.xlsx` and `verbes_a_choisir_dico_rey.xlsx`) 10 nouns and 10 verbs and retrieve from Frantext X (1800-1850) and X (1950-2000) sentences\n",
    "- use the SemEval 2020 task 1 evaluation framework (https://arxiv.org/pdf/2007.11464.pdf) to generate the Gold Standard"
   ]
  },
  {
   "cell_type": "markdown",
   "metadata": {},
   "source": [
    "## A. Generate frequency lists from \"manual\" retrieval from Frantext (1800-1850 and 1950-2000), freq > 50 and 100 respectively\n",
    "\n",
    "Note : it is impossible to download full wordlists (for nouns and verbs, as we are concerned) directly from Frantext web interface. Interaction with Frantext Staff did not resolve the point. So we download manually by copy-paste from wordlist result 100 items per page (with word, raw and relative frequency) down to frequency > 5.The resulting files are :\n",
    "- frantext_1800-1850_all_freq.csv\n",
    "- frantext_1950-2000_all_freq.csv"
   ]
  },
  {
   "cell_type": "code",
   "execution_count": 3,
   "metadata": {},
   "outputs": [],
   "source": [
    "# reading Frantext 1800-1850 wordlist \n",
    "#(one data per line : word, absolute frequency, relative frequency)\n",
    "# this strange format is due to the copy-paster procedure\n",
    "# and generating frantext_1800-1850_all.xlsx \n",
    "# (three columns : word, absolute and relative freq)\n",
    "\n",
    "import pandas as pd\n",
    "\n",
    "data = []\n",
    "with open(\"frantext_1800-1850_all_freq.csv\") as f:\n",
    "    for line in f:\n",
    "        data.append(line.strip())\n",
    "\n",
    "words1850 = data[0::3]\n",
    "freqs = data[1::3]\n",
    "relfreqs = data[2::3]\n",
    "#print(len(words))\n",
    "#print(relfreqs)\n",
    "# for B processing below\n",
    "words1850d = {words1850[i]: freqs[i] for i in range(len(words1850))} \n",
    "\n",
    "df = pd.DataFrame({'word':words1850,'freq':freqs,'relfreqs':relfreqs}).to_excel(\"frantext_1800-1850_all.xlsx\",index=False)\n",
    "#print(df.info())\n",
    "        "
   ]
  },
  {
   "cell_type": "code",
   "execution_count": 4,
   "metadata": {},
   "outputs": [],
   "source": [
    "# same as above for Frantext 1950-2000\n",
    "import pandas as pd\n",
    "\n",
    "data = []\n",
    "with open(\"frantext_1950-2000_all_freq.csv\") as f:\n",
    "    for line in f:\n",
    "        data.append(line.strip())\n",
    "\n",
    "words1950 = data[0::3]\n",
    "freqs = data[1::3]\n",
    "relfreqs = data[2::3]\n",
    "#print(len(words))\n",
    "#print(relfreqs)\n",
    "# for B processing below\n",
    "words1950d = {words1950[i]: freqs[i] for i in range(len(words1950))} \n",
    "df = pd.DataFrame({'word':words1950,'freq':freqs,'relfreqs':relfreqs}).to_excel(\"frantext_1950-2000_all.xlsx\",index=False)\n",
    "#print(df.info())\n",
    "        "
   ]
  },
  {
   "cell_type": "markdown",
   "metadata": {},
   "source": [
    "# B. Generate semantic innovations candidates from dico hist if words has less than 6 senses and are in both Frantext Frequency Lists\n",
    "\n",
    "Note : `wiktionnary_nom_def.tsv`and `wiktionnary_verbs_def.tsv` are the result of the python script `èxtractWiktionaire_n_v_adj.py`in the same directory."
   ]
  },
  {
   "cell_type": "markdown",
   "metadata": {},
   "source": [
    "## Nouns"
   ]
  },
  {
   "cell_type": "code",
   "execution_count": 5,
   "metadata": {},
   "outputs": [
    {
     "name": "stdout",
     "output_type": "stream",
     "text": [
      "<class 'pandas.core.frame.DataFrame'>\n",
      "RangeIndex: 14594 entries, 0 to 14593\n",
      "Data columns (total 4 columns):\n",
      " #   Column    Non-Null Count  Dtype \n",
      "---  ------    --------------  ----- \n",
      " 0   word      14594 non-null  object\n",
      " 1   pos       14594 non-null  object\n",
      " 2   maintext  14594 non-null  object\n",
      " 3   html      14594 non-null  object\n",
      "dtypes: object(4)\n",
      "memory usage: 456.2+ KB\n",
      "None\n",
      "<class 'pandas.core.frame.DataFrame'>\n",
      "Int64Index: 12257 entries, 0 to 14593\n",
      "Data columns (total 4 columns):\n",
      " #   Column    Non-Null Count  Dtype \n",
      "---  ------    --------------  ----- \n",
      " 0   word      12257 non-null  object\n",
      " 1   pos       12257 non-null  object\n",
      " 2   maintext  12257 non-null  object\n",
      " 3   html      12257 non-null  object\n",
      "dtypes: object(4)\n",
      "memory usage: 478.8+ KB\n",
      "None\n",
      "prime     5\n",
      "c         5\n",
      "coco      4\n",
      "bar       4\n",
      "h         4\n",
      "pan       4\n",
      "pin       4\n",
      "chat      4\n",
      "m         4\n",
      "faux      3\n",
      "union     3\n",
      "salve     3\n",
      "botte     3\n",
      "pion      3\n",
      "flèche    3\n",
      "balle     3\n",
      "vague     3\n",
      "droit     3\n",
      "poêle     3\n",
      "don       3\n",
      "Name: word, dtype: int64\n"
     ]
    }
   ],
   "source": [
    "# loading wiktionary data\n",
    "import pandas as pd\n",
    "\n",
    "df = pd.read_excel(\"../dico-rey/dico-historique-rey.xlsx\")\n",
    "print(df.info())\n",
    "df =  df[df.pos.str.contains(r\"n\\.\")]\n",
    "df.word = df.word.str.lower()\n",
    "print(df.info())\n",
    "print(df.word.value_counts().head(20))\n",
    "#print(len(df.word.unique())\n",
    "      \n",
    "\n",
    "\n",
    "# get words in words1850 and in words1950 and save to excel\n",
    "df3 = df[(df.word.isin(words1850)) & (df.word.isin(words1950))].copy()\n",
    "df3['freq1850'] = df3.word.apply(lambda x : words1850d[x])\n",
    "df3['freq1950'] = df3.word.apply(lambda x : words1950d[x])\n",
    "df3.to_excel(\"noms_a_choisir_dico-rey.xlsx\", index=False)\n"
   ]
  },
  {
   "cell_type": "markdown",
   "metadata": {},
   "source": [
    "## Verbs"
   ]
  },
  {
   "cell_type": "code",
   "execution_count": 6,
   "metadata": {},
   "outputs": [
    {
     "name": "stdout",
     "output_type": "stream",
     "text": [
      "<class 'pandas.core.frame.DataFrame'>\n",
      "RangeIndex: 14594 entries, 0 to 14593\n",
      "Data columns (total 4 columns):\n",
      " #   Column    Non-Null Count  Dtype \n",
      "---  ------    --------------  ----- \n",
      " 0   word      14594 non-null  object\n",
      " 1   pos       14594 non-null  object\n",
      " 2   maintext  14594 non-null  object\n",
      " 3   html      14594 non-null  object\n",
      "dtypes: object(4)\n",
      "memory usage: 456.2+ KB\n",
      "None\n",
      "<class 'pandas.core.frame.DataFrame'>\n",
      "Int64Index: 2584 entries, 4 to 14583\n",
      "Data columns (total 4 columns):\n",
      " #   Column    Non-Null Count  Dtype \n",
      "---  ------    --------------  ----- \n",
      " 0   word      2584 non-null   object\n",
      " 1   pos       2584 non-null   object\n",
      " 2   maintext  2584 non-null   object\n",
      " 3   html      2584 non-null   object\n",
      "dtypes: object(4)\n",
      "memory usage: 100.9+ KB\n",
      "None\n",
      "in            9\n",
      "ex            4\n",
      "a             3\n",
      "si            3\n",
      "sombrer       2\n",
      "planer        2\n",
      "cingler       2\n",
      "flétrir       2\n",
      "contracter    2\n",
      "sortir        2\n",
      "louer         2\n",
      "toper         2\n",
      "embroncher    2\n",
      "importer      2\n",
      "super         2\n",
      "tant          2\n",
      "dégrader      2\n",
      "parer         2\n",
      "chiner        2\n",
      "écarter       2\n",
      "Name: word, dtype: int64\n"
     ]
    }
   ],
   "source": [
    "# loading wiktionary data\n",
    "import pandas as pd\n",
    "\n",
    "df = pd.read_excel(\"../dico-rey/dico-historique-rey.xlsx\")\n",
    "print(df.info())\n",
    "df =  df[df.pos.str.contains(r\"v\\.\")]\n",
    "df.word = df.word.str.lower()\n",
    "print(df.info())\n",
    "print(df.word.value_counts().head(20))\n",
    "#print(len(df.word.unique())\n",
    "      \n",
    "\n",
    "\n",
    "# get words in words1850 and in words1950 and save to excel\n",
    "df3 = df[(df.word.isin(words1850)) & (df.word.isin(words1950))].copy()\n",
    "df3['freq1850'] = df3.word.apply(lambda x : words1850d[x])\n",
    "df3['freq1950'] = df3.word.apply(lambda x : words1950d[x])\n",
    "df3.to_excel(\"verbes_a_choisir_dico-rey.xlsx\", index=False)\n"
   ]
  },
  {
   "cell_type": "code",
   "execution_count": null,
   "metadata": {},
   "outputs": [],
   "source": []
  }
 ],
 "metadata": {
  "kernelspec": {
   "display_name": "Python 3",
   "language": "python",
   "name": "python3"
  },
  "language_info": {
   "codemirror_mode": {
    "name": "ipython",
    "version": 3
   },
   "file_extension": ".py",
   "mimetype": "text/x-python",
   "name": "python",
   "nbconvert_exporter": "python",
   "pygments_lexer": "ipython3",
   "version": "3.7.6"
  }
 },
 "nbformat": 4,
 "nbformat_minor": 4
}
