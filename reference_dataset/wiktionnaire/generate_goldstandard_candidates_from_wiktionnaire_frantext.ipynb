{
 "cells": [
  {
   "cell_type": "markdown",
   "metadata": {},
   "source": [
    "# Generate Gold standard dataset of lexical change from Wiktionary and Frantext\n",
    "\n",
    "Summary of algorithm:\n",
    "- pick from Wiktionary all verbs and nouns which have a number of senses between 1 and 5 : 1 for no changing sense, senses above 1 likely to have changed through time\n",
    "- from the result, retain those whose frequency in Frantext 1800-1850 and in Frantext 1950-2000 is above 50 and 100 respectively.\n",
    "\n",
    "This is what the present notebook is doing. Then next step is :\n",
    "- choose manually from the resulting files (`noms_a_choisir_wiktionnaire.xlsx` and `verbes_a_choisir_wiktionnaire.xlsx`) 10 nouns and 10 verbs and retrieve from Frantext (1800-1850) and  (1950-2000) all sentences (or a sample)\n",
    "- use the SemEval 2020 task 1 evaluation framework (https://arxiv.org/pdf/2007.11464.pdf) to generate the Gold Standard"
   ]
  },
  {
   "cell_type": "markdown",
   "metadata": {},
   "source": [
    "## A. Generate frequency lists from \"manual\" retrieval from Frantext (1800-1850 and 1950-2000), freq > 50 and 100 respectively\n",
    "\n",
    "**Note** : it is impossible to download full wordlists (for nouns and verbs, as we are concerned) directly from Frantext web interface. Interaction with Frantext Staff did not resolve the point. So we download manually by copy-paste from wordlist result 100 items per page (with word, raw and relative frequency) down to frequency > 5.The resulting files are :\n",
    "- frantext_1800-1850_all_freq.csv\n",
    "- frantext_1950-2000_all_freq.csv\n",
    "\n",
    "They need to be further processed to be used."
   ]
  },
  {
   "cell_type": "code",
   "execution_count": 2,
   "metadata": {},
   "outputs": [],
   "source": [
    "# reading Frantext 1800-1850 wordlist \n",
    "#(one data per line : word, absolute frequency, relative frequency)\n",
    "# this strange format is due to the copy-paster procedure\n",
    "# and generating frantext_1800-1850_all.xlsx \n",
    "# (three columns : word, absolute and relative freq)\n",
    "\n",
    "import pandas as pd\n",
    "\n",
    "data = []\n",
    "with open(\"frantext_1800-1850_all_freq.csv\") as f:\n",
    "    for line in f:\n",
    "        data.append(line.strip())\n",
    "\n",
    "words1850 = data[0::3]\n",
    "freqs = data[1::3]\n",
    "relfreqs = data[2::3]\n",
    "#print(len(words))\n",
    "#print(relfreqs)\n",
    "# for B processing below\n",
    "words1850d = {words1850[i]: freqs[i] for i in range(len(words1850))} \n",
    "\n",
    "df = pd.DataFrame({'word':words1850,'freq':freqs,'relfreqs':relfreqs}).to_excel(\"frantext_1800-1850_all.xlsx\",index=False)\n",
    "#print(df.info())\n",
    "        "
   ]
  },
  {
   "cell_type": "code",
   "execution_count": 3,
   "metadata": {},
   "outputs": [],
   "source": [
    "# same as above for Frantext 1950-2000\n",
    "import pandas as pd\n",
    "\n",
    "data = []\n",
    "with open(\"frantext_1950-2000_all_freq.csv\") as f:\n",
    "    for line in f:\n",
    "        data.append(line.strip())\n",
    "\n",
    "words1950 = data[0::3]\n",
    "freqs = data[1::3]\n",
    "relfreqs = data[2::3]\n",
    "#print(len(words))\n",
    "#print(relfreqs)\n",
    "# for B processing below\n",
    "words1950d = {words1950[i]: freqs[i] for i in range(len(words1950))} \n",
    "df = pd.DataFrame({'word':words1950,'freq':freqs,'relfreqs':relfreqs}).to_excel(\"frantext_1950-2000_all.xlsx\",index=False)\n",
    "#print(df.info())\n",
    "        "
   ]
  },
  {
   "cell_type": "markdown",
   "metadata": {},
   "source": [
    "# B. Generate semantic innovations candidates from wiktionary if words has less than 6 senses and are in both Frantext Frequency Lists\n",
    "\n",
    "Note : `wiktionnary_nom_def.tsv`and `wiktionnary_verbs_def.tsv` are the result of the python script `èxtractWiktionaire_n_v_adj.py`in the same directory."
   ]
  },
  {
   "cell_type": "markdown",
   "metadata": {},
   "source": [
    "## Nouns"
   ]
  },
  {
   "cell_type": "code",
   "execution_count": 4,
   "metadata": {},
   "outputs": [],
   "source": [
    "# loading wiktionary data\n",
    "import pandas as pd\n",
    "\n",
    "df = pd.read_csv(\"wiktionnary_nom_def.tsv\", sep=\"\\t\")\n",
    "#df.info()\n",
    "#df.word.value_counts().head(20)\n",
    "#print(len(df.word.unique())\n",
    "      \n",
    "\n",
    "# get words with less than 6 definitions, not containing spaces and ' (compounds are discarded) \n",
    "# new df for comparison with frantext wordlists\n",
    "df2 = df[(df['word'].map(df['word'].value_counts()) <6 ) & (df.word.str.contains(\"[ ']\") == False)].word.value_counts().rename_axis('word').reset_index(name='senses_nb')\n",
    "\n",
    "# get words in words1850 and in words1950 and save to excel\n",
    "df3 = df2[(df2.word.isin(words1850)) & (df2.word.isin(words1950))].copy()\n",
    "df3['freq1850'] = df3.word.apply(lambda x : words1850d[x])\n",
    "df3['freq1950'] = df3.word.apply(lambda x : words1950d[x])\n",
    "df3.to_excel(\"noms_a_choisir_wiktionnaire.xlsx\", index=False)\n"
   ]
  },
  {
   "cell_type": "code",
   "execution_count": 22,
   "metadata": {},
   "outputs": [],
   "source": [
    "# complete (with definition list)\n",
    "\n",
    "df = pd.read_csv(\"wiktionnary_nom_def.tsv\", sep=\"\\t\")\n",
    "#df.info()\n",
    "dftmp1 = df[(df['word'].map(df['word'].value_counts()) <6 ) & (df.word.str.contains(\"[ ']\") == False)].word.value_counts().rename_axis('word').reset_index(name='senses_nb')\n",
    "dftmp2 = df[(df['word'].map(df['word'].value_counts()) <6 ) & (df.word.str.contains(\"[ ']\") == False)].groupby(['word'])['definition'].apply(list).reset_index(name='definitions')\n",
    "\n",
    "df2 = pd.merge(dftmp1, dftmp2)\n",
    "\n",
    "# get words in words1850 and in words1950 and save to excel\n",
    "df3 = df2[(df2.word.isin(words1850)) & (df2.word.isin(words1950))].copy()\n",
    "df3['freq1850'] = df3.word.apply(lambda x : words1850d[x])\n",
    "df3['freq1950'] = df3.word.apply(lambda x : words1950d[x])\n",
    "df3[['word','senses_nb','freq1850','freq1950','definitions']].to_excel(\"noms_a_choisir_wiktionnaire_complete.xlsx\", index=False)\n"
   ]
  },
  {
   "cell_type": "markdown",
   "metadata": {},
   "source": [
    "## Verbs"
   ]
  },
  {
   "cell_type": "code",
   "execution_count": 5,
   "metadata": {},
   "outputs": [],
   "source": [
    "# loading wiktionary data\n",
    "import pandas as pd\n",
    "\n",
    "df = pd.read_csv(\"wiktionnary_verbs_def.tsv\", sep=\"\\t\")\n",
    "#df.info()\n",
    "#df.word.value_counts().head(20)\n",
    "#print(len(df.word.unique())\n",
    "      \n",
    "\n",
    "# get words with less than 6 definitions, not containing spaces and ' \n",
    "# new df for comparison with frantext wordlists\n",
    "df2 = df[(df['word'].map(df['word'].value_counts()) <6 ) & (df.word.str.contains(\"[ ']\") == False)].word.value_counts().rename_axis('word').reset_index(name='senses_nb')\n",
    "\n",
    "# get words in words1850 and in words1950 and save to excel\n",
    "df3 = df2[(df2.word.isin(words1850)) & (df2.word.isin(words1950))].copy()\n",
    "df3['freq1850'] = df3.word.apply(lambda x : words1850d[x])\n",
    "df3['freq1950'] = df3.word.apply(lambda x : words1950d[x])\n",
    "df3.to_excel(\"verbes_a_choisir_wiktionnaire.xlsx\", index=False)\n"
   ]
  },
  {
   "cell_type": "code",
   "execution_count": 23,
   "metadata": {},
   "outputs": [],
   "source": [
    "# complete (with definition list)\n",
    "\n",
    "df = pd.read_csv(\"wiktionnary_verbs_def.tsv\", sep=\"\\t\")\n",
    "#df.info()\n",
    "dftmp1 = df[(df['word'].map(df['word'].value_counts()) <6 ) & (df.word.str.contains(\"[ ']\") == False)].word.value_counts().rename_axis('word').reset_index(name='senses_nb')\n",
    "dftmp2 = df[(df['word'].map(df['word'].value_counts()) <6 ) & (df.word.str.contains(\"[ ']\") == False)].groupby(['word'])['definition'].apply(list).reset_index(name='definitions')\n",
    "\n",
    "df2 = pd.merge(dftmp1, dftmp2)\n",
    "\n",
    "# get words in words1850 and in words1950 and save to excel\n",
    "df3 = df2[(df2.word.isin(words1850)) & (df2.word.isin(words1950))].copy()\n",
    "df3['freq1850'] = df3.word.apply(lambda x : words1850d[x])\n",
    "df3['freq1950'] = df3.word.apply(lambda x : words1950d[x])\n",
    "df3[['word','senses_nb','freq1850','freq1950','definitions']].to_excel(\"verbes_a_choisir_wiktionnaire_complete.xlsx\", index=False)\n"
   ]
  },
  {
   "cell_type": "code",
   "execution_count": null,
   "metadata": {},
   "outputs": [],
   "source": []
  }
 ],
 "metadata": {
  "kernelspec": {
   "display_name": "Python 3",
   "language": "python",
   "name": "python3"
  },
  "language_info": {
   "codemirror_mode": {
    "name": "ipython",
    "version": 3
   },
   "file_extension": ".py",
   "mimetype": "text/x-python",
   "name": "python",
   "nbconvert_exporter": "python",
   "pygments_lexer": "ipython3",
   "version": "3.7.6"
  }
 },
 "nbformat": 4,
 "nbformat_minor": 4
}
